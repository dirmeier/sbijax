{
 "cells": [
  {
   "cell_type": "markdown",
   "id": "8901d7f7-06d4-4fd2-ae00-5727de6e5cac",
   "metadata": {},
   "source": [
    "# SLCP"
   ]
  },
  {
   "cell_type": "code",
   "execution_count": null,
   "id": "043fea09-31a7-496f-8431-a541b016ec7e",
   "metadata": {},
   "outputs": [],
   "source": []
  }
 ],
 "metadata": {
  "kernelspec": {
   "display_name": "sbi-dev",
   "language": "python",
   "name": "sbi-dev"
  },
  "language_info": {
   "codemirror_mode": {
    "name": "ipython",
    "version": 3
   },
   "file_extension": ".py",
   "mimetype": "text/x-python",
   "name": "python",
   "nbconvert_exporter": "python",
   "pygments_lexer": "ipython3",
   "version": "3.9.15"
  }
 },
 "nbformat": 4,
 "nbformat_minor": 5
}
