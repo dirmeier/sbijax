{
 "cells": [
  {
   "cell_type": "markdown",
   "id": "8901d7f7-06d4-4fd2-ae00-5727de6e5cac",
   "metadata": {},
   "source": [
    "# Getting started\n",
    "\n",
    "`Sbijax` is a Python paclage for neural simulation-based inference and approximate Bayesian computation. Here we demonstrate its core functionality using a simple Gaussian model.\n",
    "\n",
    "Interactive online version of this notebook:\n",
    "\n",
    "[![Open In Colab](https://colab.research.google.com/assets/colab-badge.svg)](https://colab.research.google.com/github/dirmeier/sbijax/blob/main/docs/notebooks/introduction.ipynb)"
   ]
  },
  {
   "cell_type": "code",
   "execution_count": 1,
   "id": "043fea09-31a7-496f-8431-a541b016ec7e",
   "metadata": {},
   "outputs": [],
   "source": [
    "import jax\n",
    "import sbijax\n",
    "%matplotlib inline\n",
    "import matplotlib.pyplot as plt"
   ]
  },
  {
   "cell_type": "markdown",
   "id": "099a48e2-2576-4570-8d72-d088d26d33d9",
   "metadata": {},
   "source": [
    "## Model definition\n",
    "\n",
    "To do approximate inference using `sbijax`, a user first has to define a prior model and a simulator function which can be used to generate synthetic data. We will be using a simple bivariate Gaussian as an example with the following generative model:\n",
    "\n",
    "\\begin{align}\n",
    "\\mu &\\sim \\mathcal{N}_2(0, I)\\\\\n",
    "\\sigma &\\sim \\mathcal{N}^+(1)\\\\\n",
    "y & \\sim \\mathcal{N}_2(\\mu, \\sigma^2 I)\n",
    "\\end{align}\n",
    "\n",
    "Using TensorFlow Probability, the prior model and simulator are implemented like this:"
   ]
  },
  {
   "cell_type": "code",
   "execution_count": 2,
   "id": "ce3feec6-9407-419e-9a62-0e23153479aa",
   "metadata": {},
   "outputs": [],
   "source": [
    "from jax import numpy as jnp, random as jr\n",
    "from tensorflow_probability.substrates.jax import distributions as tfd\n",
    "\n",
    "def prior_fn():\n",
    "    prior = tfd.JointDistributionNamed(dict(\n",
    "        mean=tfd.Normal(jnp.zeros(2), 1.0),\n",
    "        scale=tfd.HalfNormal(jnp.ones(1)),\n",
    "    ), batch_ndims=0)\n",
    "    return prior\n",
    "\n",
    "\n",
    "def simulator_fn(seed: jr.PRNGKey, theta: dict[str, jax.Array]):\n",
    "    p = tfd.Normal(jnp.zeros_like(theta[\"mean\"]), 1.0)\n",
    "    y = theta[\"mean\"] + theta[\"scale\"] * p.sample(seed=seed)\n",
    "    return y"
   ]
  },
  {
   "cell_type": "markdown",
   "id": "10429ed5-724b-4aee-8b8a-12c84ef28a21",
   "metadata": {},
   "source": [
    "## Inferential method definition\n",
    "\n",
    "Having defined a model of interest, i.e., the prior and simulator functions, we construct an inferential method. Here, we use flow matching posterior estimation (FMPE) which is an algorithm that directly aims to learn an approximation to the posterior distribution (without intermediate steps like neural likelihood or neural likelihood-ratio estimation methods)."
   ]
  },
  {
   "cell_type": "markdown",
   "id": "145305e9-5ad9-4e3b-a7f7-7dd62552ec3d",
   "metadata": {},
   "source": [
    "FMPE requires a continuous normalizing flow as a neural network model. We can construct it using the functionality provided by `sbijax`."
   ]
  },
  {
   "cell_type": "code",
   "execution_count": 3,
   "id": "9927c507-ef43-46ea-93dc-bcf89ccda96c",
   "metadata": {},
   "outputs": [],
   "source": [
    "from sbijax.nn import make_cnf\n",
    "\n",
    "n_dim_theta = 3\n",
    "n_layers, hidden_size = 2, 128\n",
    "neural_network = make_cnf(n_dim_theta, n_layers, hidden_size)"
   ]
  },
  {
   "cell_type": "markdown",
   "id": "fd3f55c8-05a1-403e-849f-972f3ffd2bdb",
   "metadata": {},
   "source": [
    "The neural network model in FMPE targets the posterior distribution and hence needs to target a space with its dimensionaliy. One can either find the dimensionality by inspecting the prior model (above, two for the mean and one for the scale), or use one of JAX internal methods, ravel_pytree, for this:"
   ]
  },
  {
   "cell_type": "code",
   "execution_count": 4,
   "id": "6b2984b4-a65c-4f94-bd19-f93b97a556ae",
   "metadata": {},
   "outputs": [
    {
     "data": {
      "text/plain": [
       "{'scale': Array([1.2827358], dtype=float32),\n",
       " 'mean': Array([ 1.1849145e+00, -8.9487137e-04], dtype=float32)}"
      ]
     },
     "execution_count": 4,
     "metadata": {},
     "output_type": "execute_result"
    }
   ],
   "source": [
    "prior_draw = prior_fn().sample(seed=jr.PRNGKey(1))\n",
    "prior_draw"
   ]
  },
  {
   "cell_type": "code",
   "execution_count": 5,
   "id": "8d12e9e5-00ce-4c4e-967a-39cd3bc2d8d9",
   "metadata": {},
   "outputs": [
    {
     "data": {
      "text/plain": [
       "3"
      ]
     },
     "execution_count": 5,
     "metadata": {},
     "output_type": "execute_result"
    }
   ],
   "source": [
    "len(jax.flatten_util.ravel_pytree(prior_draw)[0])"
   ]
  },
  {
   "cell_type": "markdown",
   "id": "ad35b7fb-0cc1-4170-a0a4-cf8417e46b24",
   "metadata": {},
   "source": [
    "We can then construct the method itself. It takes as arguments a tuple of prior and simulator functions and the neural network."
   ]
  },
  {
   "cell_type": "code",
   "execution_count": 6,
   "id": "0e205074-9734-4bf5-bd09-a6a8b5abfb7c",
   "metadata": {},
   "outputs": [],
   "source": [
    "from sbijax import FMPE\n",
    "\n",
    "fns = prior_fn, simulator_fn\n",
    "model = FMPE(fns, neural_network)"
   ]
  },
  {
   "cell_type": "markdown",
   "id": "4b77db4a-031a-4ea9-a4e4-c0eb51556b16",
   "metadata": {},
   "source": [
    "## Training and inference\n",
    "\n",
    "Inference is then as easy as simulating some data, fitting the data to the model, a sampling from the approximate posterior. The data set is a dictionary of dictionaries (a PyTree in JAX lingo). It contains samples for the simulator function, called `y`, and parameter samples from the prior model, called `theta`."
   ]
  },
  {
   "cell_type": "code",
   "execution_count": 7,
   "id": "01dd12d9-fdd4-45b4-919e-f9f470f3756c",
   "metadata": {},
   "outputs": [
    {
     "data": {
      "text/plain": [
       "{'y': Array([[ 0.11857828, -0.67052513],\n",
       "        [ 0.8591581 ,  0.32408738],\n",
       "        [ 0.15614688, -0.16291887],\n",
       "        ...,\n",
       "        [-0.7665508 ,  0.961631  ],\n",
       "        [ 0.564456  , -0.17578089],\n",
       "        [ 1.1174585 ,  0.62426066]], dtype=float32),\n",
       " 'theta': {'scale': Array([[0.7736873 ],\n",
       "         [0.25002995],\n",
       "         [0.5289934 ],\n",
       "         ...,\n",
       "         [1.2977095 ],\n",
       "         [0.60287726],\n",
       "         [0.33322072]], dtype=float32),\n",
       "  'mean': Array([[-0.20255503, -0.60199803],\n",
       "         [ 0.5768567 ,  0.15704815],\n",
       "         [-0.2408345 ,  0.03916928],\n",
       "         ...,\n",
       "         [-0.34609675, -0.84958166],\n",
       "         [ 1.120803  ,  0.43456906],\n",
       "         [ 1.4217944 ,  0.31761035]], dtype=float32)}}"
      ]
     },
     "execution_count": 7,
     "metadata": {},
     "output_type": "execute_result"
    }
   ],
   "source": [
    "data, _ = model.simulate_data(\n",
    "    jr.PRNGKey(1),\n",
    "    n_simulations=10_000,\n",
    ")\n",
    "data"
   ]
  },
  {
   "cell_type": "markdown",
   "id": "5b145b46-64e8-4c05-82a5-46681db3b664",
   "metadata": {},
   "source": [
    "We then fit the model using the typical flow matching loss. "
   ]
  },
  {
   "cell_type": "code",
   "execution_count": 8,
   "id": "bd72d95c-5a35-4761-8d88-549d18a73cf7",
   "metadata": {},
   "outputs": [
    {
     "name": "stderr",
     "output_type": "stream",
     "text": [
      "  4%|██████████████▏                                                                                                                                                                                                                                                                                                                    | 44/1000 [00:17<06:27,  2.46it/s]\n"
     ]
    }
   ],
   "source": [
    "params, losses = model.fit(jr.PRNGKey(2), data=data)"
   ]
  },
  {
   "cell_type": "markdown",
   "id": "8e877df0-7ad8-46e1-acd1-c12df4099420",
   "metadata": {},
   "source": [
    "Finally, we sample from the posterior distribution for a specific observation $y_{\\text{obs}}$."
   ]
  },
  {
   "cell_type": "code",
   "execution_count": 9,
   "id": "21d2741f-b8ed-486b-bf98-0e8a79d6ab3e",
   "metadata": {},
   "outputs": [
    {
     "name": "stdout",
     "output_type": "stream",
     "text": [
      "Inference data with groups:\n",
      "\t> posterior\n",
      "\t> observed_data\n"
     ]
    }
   ],
   "source": [
    "y_obs = jnp.array([-1.0, 1.0])\n",
    "inference_results, diagnostics = model.sample_posterior(\n",
    "    jr.PRNGKey(3), params, y_obs, n_samples=1_000\n",
    ")\n",
    "print(inference_results)"
   ]
  },
  {
   "cell_type": "markdown",
   "id": "fd9c46c3-a083-4865-a442-1c9c22f20988",
   "metadata": {},
   "source": [
    "## Visualization\n",
    "\n",
    "`Sbijax` provides basic functionality to analyse posterior draws. We show some visualizations below."
   ]
  },
  {
   "cell_type": "code",
   "execution_count": 10,
   "id": "e3222be6-2d58-4bf3-abb2-649a064eb515",
   "metadata": {},
   "outputs": [
    {
     "data": {
      "image/png": "[encoded data removed]",
      "text/plain": [
       "<Figure size 600x300 with 1 Axes>"
      ]
     },
     "metadata": {},
     "output_type": "display_data"
    }
   ],
   "source": [
    "_, axes = plt.subplots(figsize=(6, 3))\n",
    "sbijax.plot_loss_profile(losses, axes)\n",
    "plt.show()"
   ]
  },
  {
   "cell_type": "code",
   "execution_count": 11,
   "id": "4d18d46f-0448-41cd-9244-aa5906242daa",
   "metadata": {},
   "outputs": [
    {
     "data": {
      "image/png": "[encoded data removed]",
      "text/plain": [
       "<Figure size 900x300 with 3 Axes>"
      ]
     },
     "metadata": {},
     "output_type": "display_data"
    }
   ],
   "source": [
    "_, axes = plt.subplots(figsize=(9, 3), ncols=3)\n",
    "sbijax.plot_posterior(inference_results, axes)\n",
    "plt.show()"
   ]
  },
  {
   "cell_type": "markdown",
   "id": "a74d4b10-58f8-492f-94f4-f9b8fabc21fb",
   "metadata": {},
   "source": [
    "## Session info"
   ]
  },
  {
   "cell_type": "code",
   "execution_count": 12,
   "id": "f729983d-72e5-4da1-a2d7-82b286173a13",
   "metadata": {},
   "outputs": [
    {
     "name": "stdout",
     "output_type": "stream",
     "text": [
      "-----\n",
      "arviz                       0.17.1\n",
      "haiku                       0.0.11\n",
      "jax                         0.4.24\n",
      "jaxlib                      0.4.24\n",
      "matplotlib                  3.6.2\n",
      "sbijax                      1.0.0\n",
      "session_info                1.0.0\n",
      "tensorflow_probability      0.24.0-dev20240224\n",
      "-----\n",
      "IPython             8.8.0\n",
      "jupyter_client      7.4.9\n",
      "jupyter_core        5.1.3\n",
      "jupyterlab          3.5.2\n",
      "notebook            6.5.2\n",
      "-----\n",
      "Python 3.9.15 | packaged by conda-forge | (main, Nov 22 2022, 08:48:25) [Clang 14.0.6 ]\n",
      "macOS-13.0.1-arm64-arm-64bit\n",
      "-----\n",
      "Session information updated at 2024-07-18 16:12\n"
     ]
    }
   ],
   "source": [
    "import session_info\n",
    "\n",
    "session_info.show(html=False)"
   ]
  }
 ],
 "metadata": {
  "kernelspec": {
   "display_name": "sbi-dev",
   "language": "python",
   "name": "sbi-dev"
  },
  "language_info": {
   "codemirror_mode": {
    "name": "ipython",
    "version": 3
   },
   "file_extension": ".py",
   "mimetype": "text/x-python",
   "name": "python",
   "nbconvert_exporter": "python",
   "pygments_lexer": "ipython3",
   "version": "3.9.15"
  }
 },
 "nbformat": 4,
 "nbformat_minor": 5
}
