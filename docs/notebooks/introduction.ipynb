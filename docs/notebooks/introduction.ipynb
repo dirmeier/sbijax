{
 "cells": [
  {
   "cell_type": "markdown",
   "id": "4f6f4229-6b15-4e2b-89af-8957708479d7",
   "metadata": {
    "pycharm": {
     "name": "#%% md\n"
    }
   },
   "source": [
    "# An introduction to Surjectors\n",
    "\n",
    "This introductory notebook illustrates the usage of the basic functionality of `Surjectors` such as\n",
    "\n",
    "- using [Haiku](https://github.com/google-deepmind/dm-haiku), [Distrax](https://github.com/google-deepmind/distrax) and [Optax](https://github.com/google-deepmind/optax),\n",
    "- defining transformed distributions, \n",
    "- and training a normalizing flow.\n",
    "\n",
    "At its core, `Surjector` uses Haiku to compose functions with trainable parameters, such as neural networks, and Distrax to compute probability densities and sample random variables. Hence using `Surjectors` also requires some knowledge of these two.\n",
    "Below we illustrate how to use Haiku's core functionality to build pure functions and how to build normalizing flows for density estimation. You can find an interactive version here:\n",
    "\n",
    "Interactive online version:\n",
    "\n",
    "[![Open In Colab](https://colab.research.google.com/assets/colab-badge.svg)](https://colab.research.google.com/github/dirmeier/surjectors/blob/main/docs/notebooks/introduction.ipynb)"
   ]
  },
  {
   "cell_type": "code",
   "execution_count": 1,
   "id": "9497e202-3f4e-4602-9e90-669545f18816",
   "metadata": {
    "pycharm": {
     "name": "#%%\n"
    },
    "tags": []
   },
   "outputs": [],
   "source": [
    "from collections import namedtuple\n",
    "\n",
    "import distrax\n",
    "import haiku as hk\n",
    "import jax\n",
    "import numpy as np\n",
    "import optax\n",
    "from jax import jit\n",
    "from jax import numpy as jnp\n",
    "from jax import random as jr\n",
    "\n",
    "%matplotlib inline\n",
    "import matplotlib.pyplot as plt\n",
    "\n",
    "from surjectors import Chain, MaskedCoupling, Slice, TransformedDistribution\n",
    "from surjectors.nn import make_mlp\n",
    "from surjectors.util import as_batch_iterator, make_alternating_binary_mask"
   ]
  },
  {
   "cell_type": "markdown",
   "id": "bfd96e3f-ef84-454f-a611-0cdc0a629d2d",
   "metadata": {
    "pycharm": {
     "name": "#%% md\n"
    }
   },
   "source": [
    "## How to construct a Haiku module\n",
    "\n",
    "We begin by demonstrating how to construct a normalizing flow using Haiku modules. A more torough introduction to Haiku can be found [here](https://dm-haiku.readthedocs.io/en/latest/). We start with some code, before we explain what it does."
   ]
  },
  {
   "cell_type": "code",
   "execution_count": 2,
   "id": "f78c2fc0-f4f6-476d-8b15-12b4a874ce1d",
   "metadata": {
    "pycharm": {
     "name": "#%%\n"
    },
    "tags": []
   },
   "outputs": [],
   "source": [
    "def make_flow(n_dimensions):\n",
    "    def flow(**kwargs):\n",
    "        def decoder_fn(n_dim):\n",
    "            def _fn(z):\n",
    "                params = make_mlp([4, n_dim * 2])(z)\n",
    "                means, log_scales = jnp.split(params, 2, -1)\n",
    "                return distrax.Independent(\n",
    "                    distrax.Normal(means, jnp.exp(log_scales)),\n",
    "                    reinterpreted_batch_ndims=1,\n",
    "                )\n",
    "\n",
    "            return _fn\n",
    "\n",
    "        transform = Slice(n_dimensions // 2, decoder_fn(n_dimensions // 2))\n",
    "        base_distribution = distrax.Independent(\n",
    "            distrax.Normal(\n",
    "                jnp.zeros(n_dimensions // 2), jnp.ones(n_dimensions // 2)\n",
    "            ),\n",
    "            reinterpreted_batch_ndims=1,\n",
    "        )\n",
    "        pushforward = TransformedDistribution(base_distribution, transform)\n",
    "        return pushforward(**kwargs)\n",
    "\n",
    "    td = hk.transform(flow)\n",
    "    return td"
   ]
  },
  {
   "cell_type": "markdown",
   "id": "b41e89a1-6df4-4069-a606-4f2412b9dc6a",
   "metadata": {
    "pycharm": {
     "name": "#%% md\n"
    },
    "tags": []
   },
   "source": [
    "This example uses a `Slice` surjector to reduce the dimensionality of some data by a factor of two: ` Slice(n_dimensions // 2, decoder_fn(n_dimensions // 2))`.\n",
    "\n",
    "Constructing a Haiku module needs to be done within a `hk.transform` block. This can either be done by providing a function like here and an object. In our case we are using `hk.transform` on `pushforward(**kwargs)` which calls\n",
    "the `__call__` method of `TransformedDistribution`. Since we are generally interested to use *all* functions of a `TransformedDistribution`, e.g., `sample` and `log_prob`, the `__call__` function is implemented to dispatch on a method based on what is provided in `**kwargs`. More on that later (see the Section below)."
   ]
  },
  {
   "cell_type": "markdown",
   "id": "689f867c-2259-4713-81b6-5352837cb342",
   "metadata": {
    "pycharm": {
     "name": "#%% md\n"
    }
   },
   "source": [
    "We can now initialize the module. With Haiku, we first initialize trainable parameters using `fn.init`."
   ]
  },
  {
   "cell_type": "code",
   "execution_count": 3,
   "id": "cf91f2ce-6ba9-438c-95a7-ec9dcfbfea17",
   "metadata": {
    "pycharm": {
     "name": "#%%\n"
    },
    "tags": []
   },
   "outputs": [
    {
     "data": {
      "text/plain": [
       "{'mlp/~/linear_0': {'w': Array([[ 0.00938151,  0.00138335,  0.0027178 ,  0.00052393],\n",
       "         [ 0.00773658,  0.00142679, -0.00033992,  0.00513109],\n",
       "         [ 0.01221598,  0.01620722,  0.009937  , -0.00184268],\n",
       "         [-0.00059485,  0.00240193,  0.01265547, -0.00374089],\n",
       "         [-0.0061826 , -0.01318036, -0.00686558, -0.01773127]],      dtype=float32),\n",
       "  'b': Array([0., 0., 0., 0.], dtype=float32)},\n",
       " 'mlp/~/linear_1': {'w': Array([[-0.01119876, -0.01138027,  0.0113112 , -0.01312024,  0.00154802,\n",
       "           0.00816533, -0.00145846,  0.01340849, -0.01006911,  0.01952732],\n",
       "         [ 0.01008801,  0.00135307, -0.0115126 , -0.00349136, -0.00175548,\n",
       "           0.01259692, -0.01788977, -0.01747455, -0.00335201,  0.00770757],\n",
       "         [-0.0051812 , -0.01671031, -0.01600558,  0.00488472,  0.00310151,\n",
       "           0.01437935,  0.01761029, -0.00858634,  0.00084632,  0.01145467],\n",
       "         [ 0.0065305 , -0.00679018, -0.00247612,  0.00194623, -0.00034392,\n",
       "           0.01276916, -0.00199806, -0.00290433, -0.0088934 , -0.00410454]],      dtype=float32),\n",
       "  'b': Array([0., 0., 0., 0., 0., 0., 0., 0., 0., 0.], dtype=float32)}}"
      ]
     },
     "execution_count": 3,
     "metadata": {},
     "output_type": "execute_result"
    }
   ],
   "source": [
    "rng_key_seq = hk.PRNGSequence(0)\n",
    "\n",
    "n, p = 1000, 10\n",
    "y = jr.normal(next(rng_key_seq), (n, p))\n",
    "\n",
    "fn = make_flow(p)\n",
    "params = fn.init(next(rng_key_seq), method=\"log_prob\", y=y)\n",
    "params"
   ]
  },
  {
   "cell_type": "markdown",
   "id": "4c8f8b8e-4e81-4b54-a1c4-72027db33e1c",
   "metadata": {
    "pycharm": {
     "name": "#%% md\n"
    }
   },
   "source": [
    "The only trainable paramaters that are flow defines are the weights of the MLP. The MLP is used to compute the conditional probability density inside the `decoder_fn` function. \n",
    "The `Slice` surjector itself doesn't have parameters. We can now test the flow. Let's sample some data first."
   ]
  },
  {
   "cell_type": "code",
   "execution_count": 4,
   "id": "77ae282d-9e30-49c9-98b1-6f9494b34a21",
   "metadata": {
    "pycharm": {
     "name": "#%%\n"
    },
    "tags": []
   },
   "outputs": [
    {
     "data": {
      "text/plain": [
       "Array([[-0.41818574, -0.9990921 , -0.4571009 ,  0.49184   , -1.8751731 ,\n",
       "         0.35141623,  1.0676235 ,  0.19257896, -1.9419447 , -0.34831345],\n",
       "       [ 0.9423704 ,  1.0199391 ,  0.45825312,  0.27037895, -0.62269354,\n",
       "         0.81362796,  1.8094251 ,  0.64449644, -0.8468613 , -1.4004126 ]],      dtype=float32)"
      ]
     },
     "execution_count": 4,
     "metadata": {},
     "output_type": "execute_result"
    }
   ],
   "source": [
    "samples = fn.apply(\n",
    "    params, next(rng_key_seq), method=\"sample\", sample_shape=(2,)\n",
    ")\n",
    "samples"
   ]
  },
  {
   "cell_type": "markdown",
   "id": "04fd204d-f0c2-468b-a64d-ec292b071f34",
   "metadata": {
    "pycharm": {
     "name": "#%% md\n"
    }
   },
   "source": [
    "As mentioned above, in order to dispatch to a method, we just provide a keyword argument. In this case this is `method='sample'`. Computing the log probability of the data can be done by changing the method argument to `log_prob`."
   ]
  },
  {
   "cell_type": "code",
   "execution_count": 5,
   "id": "2190c369-4242-45ec-9ac9-b9fa5bccc1dd",
   "metadata": {
    "pycharm": {
     "name": "#%%\n"
    },
    "tags": []
   },
   "outputs": [
    {
     "data": {
      "text/plain": [
       "Array([-14.356607, -14.004238], dtype=float32)"
      ]
     },
     "execution_count": 5,
     "metadata": {},
     "output_type": "execute_result"
    }
   ],
   "source": [
    "fn.apply(params, next(rng_key_seq), method=\"log_prob\", y=samples)"
   ]
  },
  {
   "cell_type": "markdown",
   "id": "c36eaf6f-a6ba-49ac-a68a-67e889d030cf",
   "metadata": {
    "pycharm": {
     "name": "#%% md\n"
    }
   },
   "source": [
    "## Working with Haiku modules\n",
    "\n",
    "Haiku's `hk.transform` transforms a function or object into a pure function `fn` that can be used with `jax.vmap` or `jax.pmap` and which can be called using `fn.apply`. When calling `fn.apply` the `__call__` method of the original object is called. Unfortunately, this means that there is only one entry point to an object (i.e., `__call__`) and there is (afaict) no direct way to call member functions of a class. As a remedy, all classes that `Surjector` exposes implement a `__call__` that can be used to call all other functions.\n",
    "\n",
    "What does that mean exactly? Consider again the transformed distribution object from above:\n",
    "\n",
    "```\n",
    "TransformedDistribution(base_distribution, transform)\n",
    "```\n",
    "\n",
    "When transforming this object\n",
    "\n",
    "```\n",
    "fn = hk.transform(lambda x: TransformedDistribution(base_distribution, transform)(y))\n",
    "```\n",
    "\n",
    "and then calling its pure function transformation\n",
    "\n",
    "```\n",
    "fn.apply(None, None, y)\n",
    "```\n",
    "\n",
    "Haiku calls `TransformedDistribution.__call__(y)`. In order to have access to all other member functions, which in this case are\n",
    "\n",
    "- `sample`\n",
    "- `log_prob`\n",
    "- `sample_and_log_prob`\n",
    "- `inverse_and_log_prob`\n",
    "\n",
    "\n",
    "we implemented `__call__` with the following signature and method body:\n",
    "\n",
    "```\n",
    "def __call__(self, method, **kwargs):       \n",
    "    return getattr(self, method)(**kwargs)\n",
    "```\n",
    "\n",
    "This allows dispatching to every member function a class has. Concretely, we would call \n",
    "\n",
    "```\n",
    "fn.apply(params, rng_key, method=\"log_prob\", y=y)\n",
    "```\n",
    "\n",
    "when we want to call `TransformedDistribution.log_prob(y)`.\n",
    "\n",
    "**Information of which methods classes implement can be found in the API documentation.**"
   ]
  },
  {
   "cell_type": "markdown",
   "id": "8c046ffd-a2b9-4348-b8f3-85e978b7998f",
   "metadata": {
    "pycharm": {
     "name": "#%% md\n"
    }
   },
   "source": [
    "## How to construct `TransformedDistribution` objects\n",
    "\n",
    "The `TransformedDistribution` class takes a base distribution and a transformation that maps a sample from the base distribution to the distribution that is induced by the transformation. It's important to note that the dimensionality of the base distribution needs to have the same cardinality as the result of applying a transform on a data point. For instance, consider the transform below where we again use a `Slice` surjector."
   ]
  },
  {
   "cell_type": "code",
   "execution_count": 6,
   "id": "cfe4352f-fabe-45c9-b5e3-957ada33354a",
   "metadata": {
    "pycharm": {
     "name": "#%%\n"
    },
    "tags": []
   },
   "outputs": [],
   "source": [
    "def make_transform(n_dimensions):\n",
    "    def transform(**kwargs):\n",
    "        def decoder_fn(n_dim):\n",
    "            def fn(z):\n",
    "                params = make_mlp([4, n_dim * 2])(z)\n",
    "                means, log_scales = jnp.split(params, 2, -1)\n",
    "                return distrax.Independent(\n",
    "                    distrax.Normal(means, jnp.exp(log_scales)),\n",
    "                    reinterpreted_batch_ndims=1,\n",
    "                )\n",
    "\n",
    "            return fn\n",
    "\n",
    "        slic = Slice(n_dimensions // 2, decoder_fn(n_dimensions // 2))\n",
    "        return slic(**kwargs)\n",
    "\n",
    "    td = hk.transform(transform)\n",
    "    return td"
   ]
  },
  {
   "cell_type": "markdown",
   "id": "06c1df07-d5de-4265-878d-c9aa3b2e137d",
   "metadata": {
    "pycharm": {
     "name": "#%% md\n"
    }
   },
   "source": [
    "The transform above defines a simple parameterized transformation and not a pushforward measure (in which we are typically interested in when working with flows).\n",
    "Depending on the `method` argument, it reduces the dimensionality of the input or increases it."
   ]
  },
  {
   "cell_type": "code",
   "execution_count": 7,
   "id": "7b8adf9b-577c-4a27-83a3-18f6ffd35ec8",
   "metadata": {
    "pycharm": {
     "name": "#%%\n"
    },
    "tags": []
   },
   "outputs": [
    {
     "data": {
      "text/plain": [
       "(1000, 5)"
      ]
     },
     "execution_count": 7,
     "metadata": {},
     "output_type": "execute_result"
    }
   ],
   "source": [
    "rng_key_seq = hk.PRNGSequence(0)\n",
    "\n",
    "n, p = 1000, 10\n",
    "y = jr.normal(next(rng_key_seq), (n, p))\n",
    "\n",
    "transform = make_transform(p)\n",
    "params = transform.init(next(rng_key_seq), method=\"inverse\", y=y)\n",
    "\n",
    "z = transform.apply(params, next(rng_key_seq), method=\"inverse\", y=y)\n",
    "z.shape"
   ]
  },
  {
   "cell_type": "markdown",
   "id": "f2fb1e1b-5d80-4a34-9688-04152470f878",
   "metadata": {
    "pycharm": {
     "name": "#%% md\n"
    }
   },
   "source": [
    "The *forward* transformation takes as an argument a variable $Z$ from the latent space:"
   ]
  },
  {
   "cell_type": "code",
   "execution_count": 8,
   "id": "cb32e43c-b2d5-4e3e-a7c7-f39fd323ad4f",
   "metadata": {
    "pycharm": {
     "name": "#%%\n"
    },
    "tags": []
   },
   "outputs": [
    {
     "data": {
      "text/plain": [
       "(1000, 10)"
      ]
     },
     "execution_count": 8,
     "metadata": {},
     "output_type": "execute_result"
    }
   ],
   "source": [
    "y_hat = transform.apply(params, next(rng_key_seq), method=\"forward\", z=z)\n",
    "y_hat.shape"
   ]
  },
  {
   "cell_type": "markdown",
   "id": "d5ede86c-3d5b-4e79-b05d-8a64efacaa80",
   "metadata": {
    "pycharm": {
     "name": "#%% md\n"
    }
   },
   "source": [
    "When defining a normalizing flow, it assumes that the transformation is the **inverse** mapping, i.e., the mapping from data to latent space. Hence the transform $f$ is defined $f: \\mathcal{Y} \\rightarrow \\mathcal{Z}$ (technically this means that\n",
    "`TransformedDistribution` defines the pullback).\n",
    "\n",
    "With this, we can now define a `TransformedDistribution`. A transformed distribution is defined by \n",
    "\n",
    "- a base measure `base_distribution`,\n",
    "- and a transform `transform`.\n",
    "\n",
    "For instance, again as a Haiku module:"
   ]
  },
  {
   "cell_type": "code",
   "execution_count": 9,
   "id": "82d5f24c-c844-48fc-ad57-e9a46ac0ed1e",
   "metadata": {
    "pycharm": {
     "name": "#%%\n"
    },
    "tags": []
   },
   "outputs": [],
   "source": [
    "def make_flow(n_dimensions):\n",
    "    def flow(**kwargs):\n",
    "        def decoder_fn(n_dim):\n",
    "            def fn(z):\n",
    "                params = make_mlp([64, 64, n_dim * 2])(z)\n",
    "                means, log_scales = jnp.split(params, 2, -1)\n",
    "                return distrax.Independent(\n",
    "                    distrax.Normal(means, jnp.exp(log_scales)),\n",
    "                    reinterpreted_batch_ndims=1,\n",
    "                )\n",
    "\n",
    "            return fn\n",
    "\n",
    "        transform = Slice(n_dimensions // 2, decoder_fn(n_dimensions // 2))\n",
    "        base_distribution = distrax.Independent(\n",
    "            distrax.Normal(\n",
    "                jnp.zeros(n_dimensions // 2), jnp.ones(n_dimensions // 2)\n",
    "            ),\n",
    "            reinterpreted_batch_ndims=1,\n",
    "        )\n",
    "        pushforward = TransformedDistribution(base_distribution, transform)\n",
    "        return pushforward(**kwargs)\n",
    "\n",
    "    td = hk.transform(flow)\n",
    "    return td"
   ]
  },
  {
   "cell_type": "markdown",
   "id": "c7129519-c30f-4a1f-9b57-689f5f7c71ac",
   "metadata": {
    "pycharm": {
     "name": "#%% md\n"
    }
   },
   "source": [
    "Initialize and apply the flow:"
   ]
  },
  {
   "cell_type": "code",
   "execution_count": 10,
   "id": "7bf76737-d91d-408a-a3fc-a945ae82e855",
   "metadata": {
    "pycharm": {
     "name": "#%%\n"
    },
    "tags": []
   },
   "outputs": [],
   "source": [
    "rng_key_seq = hk.PRNGSequence(0)\n",
    "\n",
    "n, p = 1000, 100\n",
    "y = jr.normal(next(rng_key_seq), (n, p))\n",
    "\n",
    "fn = make_flow(p)\n",
    "params = fn.init(next(rng_key_seq), method=\"log_prob\", y=y)\n",
    "\n",
    "lps = fn.apply(params, next(rng_key_seq), method=\"log_prob\", y=y)\n",
    "samples = fn.apply(\n",
    "    params, next(rng_key_seq), method=\"sample\", sample_shape=(10,)\n",
    ")"
   ]
  },
  {
   "cell_type": "markdown",
   "id": "ceaa72ea-f909-4619-944d-30c8c5079a47",
   "metadata": {
    "pycharm": {
     "name": "#%% md\n"
    },
    "tags": []
   },
   "source": [
    "## Training a normalizing flow\n",
    "\n",
    "We are now set up to actually train the parameters of the flow which we do using the gradient-transformation library Optax. The code excerpt below can be used for training any flow in `Surjectors` (with some minor modifications)."
   ]
  },
  {
   "cell_type": "code",
   "execution_count": 11,
   "id": "7971640f-3683-4845-8df0-c9855272467e",
   "metadata": {
    "pycharm": {
     "name": "#%%\n"
    },
    "tags": []
   },
   "outputs": [],
   "source": [
    "def train(rng_key, data, model, n_iter=1000):\n",
    "    # convert the data set to an iterator\n",
    "    batch_key, rng_key = jr.split(rng_key)\n",
    "    train_iter = as_batch_iterator(batch_key, data, 100, True)\n",
    "\n",
    "    # initialize the model\n",
    "    init_key, rng_key = jr.split(rng_key)\n",
    "    params = model.init(init_key, method=\"log_prob\", **train_iter(0))\n",
    "\n",
    "    # create an optimizer\n",
    "    optimizer = optax.adam(1e-4)\n",
    "    state = optimizer.init(params)\n",
    "\n",
    "    @jit\n",
    "    # gradient step\n",
    "    def step(params, state, **batch):\n",
    "        def loss_fn(params):\n",
    "            lp = model.apply(params, None, method=\"log_prob\", **batch)\n",
    "            return -jnp.mean(lp)\n",
    "\n",
    "        loss, grads = jax.value_and_grad(loss_fn)(params)\n",
    "        updates, new_state = optimizer.update(grads, state, params)\n",
    "        new_params = optax.apply_updates(params, updates)\n",
    "        return loss, new_params, new_state\n",
    "\n",
    "    losses = np.zeros(n_iter)\n",
    "    # training loop\n",
    "    for i in range(n_iter):\n",
    "        train_loss = 0.0\n",
    "        # iterate over batches\n",
    "        for j in range(train_iter.num_batches):\n",
    "            batch = train_iter(j)\n",
    "            batch_loss, params, state = step(params, state, **batch)\n",
    "            train_loss += batch_loss\n",
    "        losses[i] = train_loss\n",
    "\n",
    "    return params, losses"
   ]
  },
  {
   "cell_type": "markdown",
   "id": "50298b04-52c7-4e17-ba3c-e605372215a4",
   "metadata": {
    "pycharm": {
     "name": "#%% md\n"
    }
   },
   "source": [
    "Let's test this to train a flow on a simple two-dimensional data set."
   ]
  },
  {
   "cell_type": "code",
   "execution_count": 12,
   "id": "eee15307-a673-4ff8-9c3e-3c3d41532a44",
   "metadata": {
    "pycharm": {
     "name": "#%%\n"
    },
    "tags": []
   },
   "outputs": [],
   "source": [
    "n, p = 1000, 2\n",
    "z = jr.normal(next(rng_key_seq), (n, p))\n",
    "y = jnp.vstack([jnp.abs(z[:, 0]), jax.nn.sigmoid(z[:, 1])]).T"
   ]
  },
  {
   "cell_type": "code",
   "execution_count": 13,
   "id": "c00a965c-ed4d-4b58-a38b-049f78714996",
   "metadata": {
    "pycharm": {
     "name": "#%%\n"
    },
    "tags": []
   },
   "outputs": [
    {
     "data": {
      "image/png": "[encoded data removed]",
      "text/plain": [
       "<Figure size 800x300 with 2 Axes>"
      ]
     },
     "metadata": {},
     "output_type": "display_data"
    }
   ],
   "source": [
    "_, axes = plt.subplots(figsize=(8, 3), ncols=2)\n",
    "for i, ax in enumerate(axes):\n",
    "    ax.hist(y[:, i], color=\"black\", density=True, bins=20)\n",
    "    ax.spines[\"top\"].set_visible(False)\n",
    "    ax.spines[\"right\"].set_visible(False)\n",
    "plt.show()"
   ]
  },
  {
   "cell_type": "markdown",
   "id": "2bcf5018-5f7c-4b59-80a2-58f7623f4bf8",
   "metadata": {
    "pycharm": {
     "name": "#%% md\n"
    }
   },
   "source": [
    "We use a masked coupling bijector with affine transformations. Specifically, we use five masked coupling layers that we concatenate using the `Chain` operator."
   ]
  },
  {
   "cell_type": "code",
   "execution_count": 14,
   "id": "2e5622da-1578-48c7-acce-a87dc92fb285",
   "metadata": {
    "pycharm": {
     "name": "#%%\n"
    },
    "tags": []
   },
   "outputs": [],
   "source": [
    "def make_flow(n_dimensions):\n",
    "    def flow(**kwargs):\n",
    "        def bijector_fn(params):\n",
    "            means, log_scales = jnp.split(params, 2, -1)\n",
    "            return distrax.ScalarAffine(means, jnp.exp(log_scales))\n",
    "\n",
    "        layers = []\n",
    "        for i in range(5):\n",
    "            layer = MaskedCoupling(\n",
    "                mask=make_alternating_binary_mask(n_dimensions, i % 2 == 0),\n",
    "                bijector_fn=bijector_fn,\n",
    "                conditioner=make_mlp([32, 32, n_dimensions * 2]),\n",
    "            )\n",
    "            layers.append(layer)\n",
    "\n",
    "        transform = Chain(layers)\n",
    "        base_distribution = distrax.Independent(\n",
    "            distrax.Normal(jnp.zeros(n_dimensions), jnp.ones(n_dimensions)),\n",
    "            reinterpreted_batch_ndims=1,\n",
    "        )\n",
    "        pushforward = TransformedDistribution(base_distribution, transform)\n",
    "\n",
    "        return pushforward(**kwargs)\n",
    "\n",
    "    td = hk.transform(flow)\n",
    "    return td"
   ]
  },
  {
   "cell_type": "markdown",
   "id": "67e9675d-2a4e-4678-9f5f-6488cc6572ff",
   "metadata": {
    "pycharm": {
     "name": "#%% md\n"
    }
   },
   "source": [
    "To train the flow we need to provide a data argument for `as_batch_iterator` which has to be a named tuple. If the tuple has one element, called `y`, an unconditional flow is trained. If a tuple with two elements, called `y` and `x`, is provided, a conditional flow is trained."
   ]
  },
  {
   "cell_type": "code",
   "execution_count": 15,
   "id": "a71c72fa-3f3c-4e77-8932-68356e229c36",
   "metadata": {
    "pycharm": {
     "name": "#%%\n"
    },
    "tags": []
   },
   "outputs": [],
   "source": [
    "fn = make_flow(p)\n",
    "data = namedtuple(\"named_dataset\", \"y\")(y)\n",
    "params, losses = train(next(rng_key_seq), data, fn)"
   ]
  },
  {
   "cell_type": "markdown",
   "id": "d86c2131-4163-4328-9d17-0889bb0903ce",
   "metadata": {
    "pycharm": {
     "name": "#%% md\n"
    }
   },
   "source": [
    "That's it. Let's draw some sampels."
   ]
  },
  {
   "cell_type": "code",
   "execution_count": 16,
   "id": "e6870594-3037-4d07-9195-21889f807133",
   "metadata": {
    "pycharm": {
     "name": "#%%\n"
    },
    "tags": []
   },
   "outputs": [],
   "source": [
    "samples = fn.apply(\n",
    "    params, next(rng_key_seq), method=\"sample\", sample_shape=(1000,)\n",
    ")"
   ]
  },
  {
   "cell_type": "code",
   "execution_count": 17,
   "id": "657ddec1-53dc-4a5e-9d63-864ba0153583",
   "metadata": {
    "pycharm": {
     "name": "#%%\n"
    },
    "tags": []
   },
   "outputs": [
    {
     "data": {
      "image/png": "[encoded data removed]",
      "text/plain": [
       "<Figure size 800x300 with 2 Axes>"
      ]
     },
     "metadata": {},
     "output_type": "display_data"
    }
   ],
   "source": [
    "_, axes = plt.subplots(figsize=(8, 3), ncols=2)\n",
    "for i, ax in enumerate(axes):\n",
    "    ax.hist(\n",
    "        y[:, i],\n",
    "        color=\"black\",\n",
    "        density=True,\n",
    "        bins=20,\n",
    "        alpha=0.2,\n",
    "        label=\"Training data\",\n",
    "    )\n",
    "    ax.hist(\n",
    "        samples[:, i],\n",
    "        color=\"blue\",\n",
    "        density=True,\n",
    "        bins=20,\n",
    "        alpha=0.2,\n",
    "        label=\"NF data\",\n",
    "    )\n",
    "    ax.spines[\"top\"].set_visible(False)\n",
    "    ax.spines[\"right\"].set_visible(False)\n",
    "plt.legend(loc=\"upper right\", bbox_to_anchor=(1.5, 0.6))\n",
    "plt.show()"
   ]
  },
  {
   "cell_type": "markdown",
   "id": "21b9b84f-62b4-4975-8fad-3cc3495fe0db",
   "metadata": {
    "pycharm": {
     "name": "#%% md\n"
    }
   },
   "source": [
    "## Session info"
   ]
  },
  {
   "cell_type": "code",
   "execution_count": 18,
   "id": "bb3a9293-18fd-43f3-93ce-661c3e8138f2",
   "metadata": {
    "pycharm": {
     "name": "#%%\n"
    },
    "tags": []
   },
   "outputs": [
    {
     "name": "stdout",
     "output_type": "stream",
     "text": [
      "-----\n",
      "distrax             0.1.5\n",
      "haiku               0.0.11\n",
      "jax                 0.4.23\n",
      "jaxlib              0.4.23\n",
      "matplotlib          3.8.2\n",
      "numpy               1.26.3\n",
      "optax               0.1.8\n",
      "session_info        1.0.0\n",
      "surjectors          0.3.0\n",
      "-----\n",
      "IPython             8.21.0\n",
      "jupyter_client      8.6.0\n",
      "jupyter_core        5.7.1\n",
      "jupyterlab          4.0.12\n",
      "notebook            7.0.7\n",
      "-----\n",
      "Python 3.11.7 | packaged by conda-forge | (main, Dec 23 2023, 14:38:07) [Clang 16.0.6 ]\n",
      "macOS-13.0.1-arm64-arm-64bit\n",
      "-----\n",
      "Session information updated at 2024-02-01 17:03\n"
     ]
    }
   ],
   "source": [
    "import session_info\n",
    "\n",
    "session_info.show(html=False)"
   ]
  },
  {
   "cell_type": "markdown",
   "id": "52d16151-9b07-4e55-b739-f8983f10e316",
   "metadata": {
    "pycharm": {
     "name": "#%% md\n"
    }
   },
   "source": [
    "## References\n",
    "\n",
    "[1] Klein, Samuel, et al. \"Funnels: Exact maximum likelihood with dimensionality reduction\". Workshop on Bayesian Deep Learning, Advances in Neural Information Processing Systems, 2021.\n",
    "\n",
    "[2] Durkan, Conor, et al. \"Neural Spline Flows\". Advances in Neural Information Processing Systems, 2019.\n",
    "\n",
    "[3] Papamakarios, George, et al. \"Masked Autoregressive Flow for Density Estimation\". Advances in Neural Information Processing Systems, 2017."
   ]
  }
 ],
 "metadata": {
  "kernelspec": {
   "display_name": "surjectors-dev",
   "language": "python",
   "name": "surjectors-dev"
  },
  "language_info": {
   "codemirror_mode": {
    "name": "ipython",
    "version": 3
   },
   "file_extension": ".py",
   "mimetype": "text/x-python",
   "name": "python",
   "nbconvert_exporter": "python",
   "pygments_lexer": "ipython3",
   "version": "3.11.7"
  }
 },
 "nbformat": 4,
 "nbformat_minor": 5
}
