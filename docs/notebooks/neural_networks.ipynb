{
 "cells": [
  {
   "cell_type": "markdown",
   "id": "7c3f58b8-c517-4cc2-9812-35ca69c96750",
   "metadata": {},
   "source": [
    "# Neural networks\n",
    "\n",
    "How to construct custom neural network architectures like density estimators and classifier networks using the low-level API?\n",
    "\n",
    "Coming soon!"
   ]
  }
 ],
 "metadata": {
  "kernelspec": {
   "display_name": "sbi-dev",
   "language": "python",
   "name": "sbi-dev"
  },
  "language_info": {
   "codemirror_mode": {
    "name": "ipython",
    "version": 3
   },
   "file_extension": ".py",
   "mimetype": "text/x-python",
   "name": "python",
   "nbconvert_exporter": "python",
   "pygments_lexer": "ipython3",
   "version": "3.9.15"
  }
 },
 "nbformat": 4,
 "nbformat_minor": 5
}
