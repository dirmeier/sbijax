{
 "cells": [
  {
   "cell_type": "markdown",
   "id": "7c3f58b8-c517-4cc2-9812-35ca69c96750",
   "metadata": {},
   "source": [
    "# High-dimensional inference\n",
    "\n",
    "How can we scale SBI methods to high-dimensional data sets?\n",
    "\n",
    "Coming soon!"
   ]
  }
 ],
 "metadata": {
  "kernelspec": {
   "display_name": "sbi-dev",
   "language": "python",
   "name": "sbi-dev"
  },
  "language_info": {
   "codemirror_mode": {
    "name": "ipython",
    "version": 3
   },
   "file_extension": ".py",
   "mimetype": "text/x-python",
   "name": "python",
   "nbconvert_exporter": "python",
   "pygments_lexer": "ipython3",
   "version": "3.9.15"
  }
 },
 "nbformat": 4,
 "nbformat_minor": 5
}
