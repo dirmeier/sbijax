{
 "cells": [
  {
   "cell_type": "markdown",
   "id": "7c3f58b8-c517-4cc2-9812-35ca69c96750",
   "metadata": {},
   "source": [
    "# Density estimators\n",
    "\n",
    "What's the advantages and disadvantages of MDNs vs MAFs vs SPFs vs CNFs?\n",
    "\n",
    "Coming soon!"
   ]
  }
 ],
 "metadata": {
  "kernelspec": {
   "display_name": "sbi-dev",
   "language": "python",
   "name": "sbi-dev"
  },
  "language_info": {
   "codemirror_mode": {
    "name": "ipython",
    "version": 3
   },
   "file_extension": ".py",
   "mimetype": "text/x-python",
   "name": "python",
   "nbconvert_exporter": "python",
   "pygments_lexer": "ipython3",
   "version": "3.9.15"
  }
 },
 "nbformat": 4,
 "nbformat_minor": 5
}
